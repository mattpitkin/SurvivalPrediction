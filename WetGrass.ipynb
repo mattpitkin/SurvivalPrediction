{
 "cells": [
  {
   "cell_type": "code",
   "execution_count": 1,
   "metadata": {},
   "outputs": [
    {
     "name": "stderr",
     "output_type": "stream",
     "text": [
      "WARNING (theano.configdefaults): install mkl with `conda install mkl-service`: No module named 'mkl'\n"
     ]
    }
   ],
   "source": [
    "%matplotlib inline\n",
    "\n",
    "from matplotlib import pyplot as pl\n",
    "import daft\n",
    "import pymc3 as pm\n",
    "import numpy as np"
   ]
  },
  {
   "cell_type": "code",
   "execution_count": 2,
   "metadata": {},
   "outputs": [
    {
     "data": {
      "text/plain": [
       "<matplotlib.axes._axes.Axes at 0x7f43869effd0>"
      ]
     },
     "execution_count": 2,
     "metadata": {},
     "output_type": "execute_result"
    },
    {
     "data": {
      "image/png": "[encoded data removed]",
      "text/plain": [
       "<Figure size 340.157x226.772 with 1 Axes>"
      ]
     },
     "metadata": {},
     "output_type": "display_data"
    }
   ],
   "source": [
    "pgm = daft.PGM([6, 4], origin=[2, 1])\n",
    "pgm.add_node(daft.Node('r', 'rain', 3, 4, aspect=2))\n",
    "pgm.add_node(daft.Node('s', 'sprinkler', 7, 4, aspect=3))\n",
    "pgm.add_node(daft.Node('w', 'grass wet', 5, 2, aspect=4, observed=True))\n",
    "pgm.add_edge('r', 's')\n",
    "pgm.add_edge('r', 'w')\n",
    "pgm.add_edge('s', 'w')\n",
    "pgm.render()"
   ]
  },
  {
   "cell_type": "markdown",
   "metadata": {},
   "source": [
    "Using some observations about whether it has rained, whether the sprinkler has been on, and whether the grass is wet, fit the conditional probability table values for the Bayesian network [above](https://en.wikipedia.org/wiki/Bayesian_network#Example)."
   ]
  },
  {
   "cell_type": "code",
   "execution_count": 6,
   "metadata": {},
   "outputs": [
    {
     "name": "stderr",
     "output_type": "stream",
     "text": [
      "Auto-assigning NUTS sampler...\n",
      "Initializing NUTS using jitter+adapt_diag...\n",
      "Sequential sampling (1 chains in 1 job)\n",
      "NUTS: [wetnosprinknorain, wetnosprinkrain, wetsprinknorain, wetsprinkrain, sprinknorain, sprinkrain, prain]\n",
      "100%|██████████| 3000/3000 [09:27<00:00,  5.15it/s]\n",
      "The chain reached the maximum tree depth. Increase max_treedepth, increase target_accept or reparameterize.\n",
      "Only one chain was sampled, this makes it impossible to run some convergence checks\n"
     ]
    }
   ],
   "source": [
    "# set the observations\n",
    "has_rained =   np.array([1, 0, 0, 1, 1, 0, 0, 0, 0, 1, 0, 1, 1, 1, 0, 0, 0, 0, 1])\n",
    "sprinkler_on = np.array([0, 0, 1, 0, 1, 0, 0, 1, 1, 0, 1, 0, 0, 1, 0, 0, 1, 0, 0])\n",
    "grass_wet =    np.array([1, 0, 1, 1, 1, 0, 0, 1, 1, 1, 1, 0, 0, 1, 0, 0, 1, 0, 1])\n",
    "\n",
    "# fit the conditional probability distributions\n",
    "with pm.Model() as model:\n",
    "    prain = pm.Uniform('prain', 0.0, 1.0)  # prior on probability of rain\n",
    "\n",
    "    # distribution of prain given the number of observed times it has rained\n",
    "    rain = pm.Bernoulli('rain', p=prain, observed=has_rained)\n",
    "\n",
    "    # conditional probability for s\n",
    "    sprinkrain = pm.Uniform('sprinkrain', 0., 1.)\n",
    "    sprinknorain = pm.Uniform('sprinknorain', 0., 1.)\n",
    "    \n",
    "    psprinkrain = pm.Bernoulli('psprinkrain', sprinkrain,\n",
    "                               observed=(has_rained & sprinkler_on))\n",
    "    psprinknorain = pm.Bernoulli('psprinknorain', sprinknorain,\n",
    "                                 observed=(sprinkler_on & ~has_rained))\n",
    "\n",
    "    wetsprinkrain = pm.Uniform('wetsprinkrain', 0., 1.)\n",
    "    wetsprinknorain = pm.Uniform('wetsprinknorain', 0., 1.)\n",
    "    wetnosprinkrain = pm.Uniform('wetnosprinkrain', 0., 1.)\n",
    "    wetnosprinknorain = pm.Uniform('wetnosprinknorain', 0., 1.)\n",
    "    \n",
    "    pwetsprinkrain = pm.Bernoulli('pwetsprinkrain', wetsprinkrain,\n",
    "                                  observed=(grass_wet & sprinkler_on & has_rained))\n",
    "    pwetsprinknorain = pm.Bernoulli('pwetsprinknorain', wetsprinknorain,\n",
    "                                    observed=(grass_wet & sprinkler_on & ~has_rained))\n",
    "    pwetnosprinkrain = pm.Bernoulli('pwetnosprinkrain', wetnosprinkrain,\n",
    "                                    observed=(grass_wet & has_rained & ~sprinkler_on))\n",
    "    pwetnosprinknorain = pm.Bernoulli('pwetnosprinknorain', wetnosprinknorain,\n",
    "                                      observed=(grass_wet & ~has_rained & ~sprinkler_on))\n",
    "    \n",
    "    trace = pm.sample(1000, tune=2000, discard_tuned_samples=True, chains=1)"
   ]
  },
  {
   "cell_type": "code",
   "execution_count": 27,
   "metadata": {},
   "outputs": [
    {
     "data": {
      "text/plain": [
       "array([0, 0, 0, 0, 1, 0, 0, 0, 0, 0, 0, 0, 0, 1])"
      ]
     },
     "execution_count": 27,
     "metadata": {},
     "output_type": "execute_result"
    }
   ],
   "source": [
    "np.array(has_rained) & np.array(sprinkler_on)"
   ]
  },
  {
   "cell_type": "code",
   "execution_count": 7,
   "metadata": {},
   "outputs": [
    {
     "data": {
      "text/plain": [
       "(array([ 23., 110., 186., 133., 173., 136.,  55.,  77.,  85.,  22.]),\n",
       " array([0.28791386, 0.32313772, 0.35836158, 0.39358544, 0.4288093 ,\n",
       "        0.46403317, 0.49925703, 0.53448089, 0.56970475, 0.60492861,\n",
       "        0.64015247]),\n",
       " <a list of 10 Patch objects>)"
      ]
     },
     "execution_count": 7,
     "metadata": {},
     "output_type": "execute_result"
    },
    {
     "data": {
      "image/png": "[encoded data removed]",
      "text/plain": [
       "<Figure size 432x288 with 1 Axes>"
      ]
     },
     "metadata": {
      "needs_background": "light"
     },
     "output_type": "display_data"
    }
   ],
   "source": [
    "pl.hist(trace['prain'])"
   ]
  },
  {
   "cell_type": "code",
   "execution_count": 24,
   "metadata": {},
   "outputs": [
    {
     "data": {
      "text/plain": [
       "0.5"
      ]
     },
     "execution_count": 24,
     "metadata": {},
     "output_type": "execute_result"
    }
   ],
   "source": [
    "np.sum(has_rained)/len(has_rained)"
   ]
  },
  {
   "cell_type": "markdown",
   "metadata": {},
   "source": [
    "Following the example [here](https://gist.github.com/cs224/9a19b4ba2c7511e317be90c32a4d40d7#file-pymc3_rain_sprinkler_grass_simple_bayesian_network_with_evidence-py) add in prediction variables."
   ]
  },
  {
   "cell_type": "code",
   "execution_count": 9,
   "metadata": {},
   "outputs": [
    {
     "name": "stderr",
     "output_type": "stream",
     "text": [
      "Auto-assigning NUTS sampler...\n",
      "Initializing NUTS using jitter+adapt_diag...\n",
      "Sequential sampling (1 chains in 1 job)\n",
      "NUTS: [wetnosprinknorain, wetnosprinkrain, wetsprinknorain, wetsprinkrain, sprinknorain, sprinkrain, pwet, psprinker, prain]\n",
      "100%|██████████| 3000/3000 [11:25<00:00,  4.26it/s]\n",
      "The chain reached the maximum tree depth. Increase max_treedepth, increase target_accept or reparameterize.\n",
      "Only one chain was sampled, this makes it impossible to run some convergence checks\n"
     ]
    }
   ],
   "source": [
    "# set the observations\n",
    "has_rained =   np.array([1, 0, 0, 1, 1, 0, 0, 0, 0, 1, 0, 1, 1, 1, 0, 0, 0, 0, 1])\n",
    "sprinkler_on = np.array([0, 0, 1, 0, 1, 0, 0, 1, 1, 0, 1, 0, 0, 1, 0, 0, 1, 0, 0])\n",
    "grass_wet =    np.array([1, 0, 1, 1, 1, 0, 0, 1, 1, 1, 1, 0, 0, 1, 0, 0, 1, 0, 1])\n",
    "\n",
    "# new observation (grass is wet)\n",
    "new_grass_wet = np.array([1])\n",
    "\n",
    "# fit the conditional probability distributions\n",
    "with pm.Model() as model:\n",
    "    prain = pm.Uniform('prain', 0.0, 1.0)  # prior on probability of rain\n",
    "\n",
    "    # distribution of prain given the number of observed times it has rained\n",
    "    rain = pm.Bernoulli('rain', p=prain, observed=has_rained)\n",
    "\n",
    "    psprinkler = pm.Uniform('psprinker', 0.0, 1.0)  # prior on probability of sprinkler on\n",
    "    sprinkler = pm.Bernoulli('sprinkler', psprinkler, observed=sprinkler_on)\n",
    "    \n",
    "    pwet = pm.Uniform('pwet', 0.0, 1.0)  # prior on probability of grass being wet\n",
    "    wet = pm.Bernoulli('wet', pwet, observed=grass_wet)\n",
    "    \n",
    "    # conditional probability for sprinkler\n",
    "    sprinkrain = pm.Uniform('sprinkrain', 0., 1.)\n",
    "    sprinknorain = pm.Uniform('sprinknorain', 0., 1.)\n",
    "    \n",
    "    psprinkrain = pm.Bernoulli('psprinkrain', sprinkrain,\n",
    "                               observed=(has_rained & sprinkler_on))\n",
    "    psprinknorain = pm.Bernoulli('psprinknorain', sprinknorain,\n",
    "                                 observed=(sprinkler_on & ~has_rained))\n",
    "    \n",
    "    wetsprinkrain = pm.Uniform('wetsprinkrain', 0., 1.)\n",
    "    wetsprinknorain = pm.Uniform('wetsprinknorain', 0., 1.)\n",
    "    wetnosprinkrain = pm.Uniform('wetnosprinkrain', 0., 1.)\n",
    "    wetnosprinknorain = pm.Uniform('wetnosprinknorain', 0., 1.)\n",
    "    \n",
    "    pwetsprinkrain = pm.Bernoulli('pwetsprinkrain', wetsprinkrain,\n",
    "                                  observed=(grass_wet & sprinkler_on & has_rained))\n",
    "    pwetsprinknorain = pm.Bernoulli('pwetsprinknorain', wetsprinknorain,\n",
    "                                    observed=(grass_wet & sprinkler_on & ~has_rained))\n",
    "    pwetnosprinkrain = pm.Bernoulli('pwetnosprinkrain', wetnosprinkrain,\n",
    "                                    observed=(grass_wet & has_rained & ~sprinkler_on))\n",
    "    pwetnosprinknorain = pm.Bernoulli('pwetnosprinknorain', wetnosprinknorain,\n",
    "                                      observed=(grass_wet & ~has_rained & ~sprinkler_on))\n",
    "    \n",
    "    # probability of sprinkler being on\n",
    "    sprinkler_p = pm.Deterministic('sprinkler_p', pm.math.switch(rain, sprinkrain, sprinknorain))\n",
    "    \n",
    "    # probability of grass being wet\n",
    "    grass_wet_p = pm.Deterministic('grass_wet_p', pm.math.switch(rain,\n",
    "                                                                 pm.math.switch(sprinkler, wetsprinkrain, wetnosprinkrain),\n",
    "                                                                 pm.math.switch(sprinkler, wetsprinknorain, wetnosprinknorain)))\n",
    "\n",
    "    # grass wet new observation\n",
    "    grass_wet = pm.Bernoulli('grass_wet', grass_wet_p, observed=new_grass_wet, shape=1)\n",
    "    \n",
    "    trace = pm.sample(1000, tune=2000, discard_tuned_samples=True, chains=1)"
   ]
  },
  {
   "cell_type": "code",
   "execution_count": 11,
   "metadata": {},
   "outputs": [
    {
     "data": {
      "text/plain": [
       "[<matplotlib.lines.Line2D at 0x7f436ee399b0>]"
      ]
     },
     "execution_count": 11,
     "metadata": {},
     "output_type": "execute_result"
    },
    {
     "data": {
      "image/png": "[encoded data removed]",
      "text/plain": [
       "<Figure size 432x288 with 1 Axes>"
      ]
     },
     "metadata": {
      "needs_background": "light"
     },
     "output_type": "display_data"
    }
   ],
   "source": [
    "pl.plot(trace['prain'])"
   ]
  },
  {
   "cell_type": "code",
   "execution_count": 31,
   "metadata": {},
   "outputs": [
    {
     "name": "stderr",
     "output_type": "stream",
     "text": [
      "Auto-assigning NUTS sampler...\n",
      "Initializing NUTS using jitter+adapt_diag...\n",
      "Multiprocess sampling (2 chains in 2 jobs)\n",
      "NUTS: [prain]\n",
      "Sampling 2 chains: 100%|██████████| 12000/12000 [00:05<00:00, 2049.42draws/s]\n"
     ]
    }
   ],
   "source": [
    "# set the observations\n",
    "has_rained =   np.array([1, 0, 0, 1, 1, 0, 0, 0, 0, 1, 0, 1, 1, 1, 0, 0, 0,\n",
    "                         0, 1, 0, 0, 0, 0, 1, 0, 0, 0, 1, 0, 0, 0, 1, 1, 0,\n",
    "                         0, 1, 1, 0, 0, 0, 0, 1, 1, 0, 1, 0, 1, 0, 1, 1, 1,\n",
    "                         1, 0, 0, 1, 1, 0, 0, 0, 0, 1, 0, 1, 1, 1, 0, 0, 0,\n",
    "                         0, 1, 0, 0, 0, 0, 1, 0, 0, 0, 1, 0, 0, 0, 1, 1, 0,\n",
    "                         0, 1, 1, 0, 0, 0, 0, 1, 1, 0, 1, 0, 1, 0, 1, 1, 1,\n",
    "                         1, 0, 0, 1, 1, 0, 0, 0, 0, 1, 0, 1, 1, 1, 0, 0, 0,\n",
    "                         0, 1, 0, 0, 0, 0, 1, 0, 0, 0, 1, 0, 0, 0, 1, 1, 0,\n",
    "                         0, 1, 1, 0, 0, 0, 0, 1, 1, 0, 1, 0, 1, 0, 1, 1, 1,\n",
    "                         1, 0, 0, 1, 1, 0, 0, 0, 0, 1, 0, 1, 1, 1, 0, 0, 0,\n",
    "                         0, 1, 0, 0, 0, 0, 1, 0, 0, 0, 1, 0, 0, 0, 1, 1, 0,\n",
    "                         0, 1, 1, 0, 0, 0, 0, 1, 1, 0, 1, 0, 1, 0, 1, 1, 1,\n",
    "                         1, 0, 0, 1, 1, 0, 0, 0, 0, 1, 0, 1, 1, 1, 0, 0, 0,\n",
    "                         0, 1, 0, 0, 0, 0, 1, 0, 0, 0, 1, 0, 0, 0, 1, 1, 0,\n",
    "                         0, 1, 1, 0, 0, 0, 0, 1, 1, 0, 1, 0, 1, 0, 1, 1, 1,\n",
    "                         1, 0, 0, 1, 1, 0, 0, 0, 0, 1, 0, 1, 1, 1, 0, 0, 0,\n",
    "                         0, 1, 0, 0, 0, 0, 1, 0, 0, 0, 1, 0, 0, 0, 1, 1, 0,\n",
    "                         0, 1, 1, 0, 0, 0, 0, 1, 1, 0, 1, 0, 1, 0, 1, 1, 1,\n",
    "                         1, 0, 0, 1, 1, 0, 0, 0, 0, 1, 0, 1, 1, 1, 0, 0, 0,\n",
    "                         0, 1, 0, 0, 0, 0, 1, 0, 0, 0, 1, 0, 0, 0, 1, 1, 0,\n",
    "                         0, 1, 1, 0, 0, 0, 0, 1, 1, 0, 1, 0, 1, 0, 1, 1, 1,\n",
    "                         1, 0, 0, 1, 1, 0, 0, 0, 0, 1, 0, 1, 1, 1, 0, 0, 0,\n",
    "                         0, 1, 0, 0, 0, 0, 1, 0, 0, 0, 1, 0, 0, 0, 1, 1, 0,\n",
    "                         0, 1, 1, 0, 0, 0, 0, 1, 1, 0, 1, 0, 1, 0, 1, 1, 1])\n",
    "\n",
    "# fit the conditional probability distributions\n",
    "with pm.Model() as model:\n",
    "    prain = pm.Uniform('prain', 0.0, 1.0)  # prior on probability of rain\n",
    "\n",
    "    # distribution of prain given the number of observed times it has rained\n",
    "    rain = pm.Bernoulli('rain', p=prain, observed=has_rained)\n",
    "    \n",
    "    trace = pm.sample(2000, tune=4000, discard_tuned_samples=True, chains=2)"
   ]
  },
  {
   "cell_type": "code",
   "execution_count": 32,
   "metadata": {},
   "outputs": [
    {
     "data": {
      "text/plain": [
       "(array([  29.,  118.,  397.,  841., 1046.,  866.,  483.,  166.,   43.,\n",
       "          11.]),\n",
       " array([0.33608433, 0.35241132, 0.36873831, 0.3850653 , 0.40139229,\n",
       "        0.41771929, 0.43404628, 0.45037327, 0.46670026, 0.48302725,\n",
       "        0.49935424]),\n",
       " <a list of 10 Patch objects>)"
      ]
     },
     "execution_count": 32,
     "metadata": {},
     "output_type": "execute_result"
    },
    {
     "data": {
      "image/png": "[encoded data removed]",
      "text/plain": [
       "<Figure size 432x288 with 1 Axes>"
      ]
     },
     "metadata": {
      "needs_background": "light"
     },
     "output_type": "display_data"
    }
   ],
   "source": [
    "pl.hist(trace['prain'])"
   ]
  },
  {
   "cell_type": "code",
   "execution_count": 33,
   "metadata": {},
   "outputs": [
    {
     "name": "stdout",
     "output_type": "stream",
     "text": [
      "0.4117647058823529\n",
      "0.4114399643940026\n"
     ]
    }
   ],
   "source": [
    "print(np.mean(has_rained))\n",
    "print(np.mean(trace['prain']))"
   ]
  },
  {
   "cell_type": "code",
   "execution_count": 34,
   "metadata": {},
   "outputs": [
    {
     "data": {
      "text/plain": [
       "0.02433580370012599"
      ]
     },
     "execution_count": 34,
     "metadata": {},
     "output_type": "execute_result"
    }
   ],
   "source": [
    "np.std(trace['prain'])"
   ]
  },
  {
   "cell_type": "code",
   "execution_count": 35,
   "metadata": {},
   "outputs": [
    {
     "data": {
      "text/plain": [
       "(array([  11.,   43.,  166.,  483.,  866., 1046.,  841.,  397.,  118.,\n",
       "          29.]),\n",
       " array([0.50064576, 0.51697275, 0.53329974, 0.54962673, 0.56595372,\n",
       "        0.58228071, 0.59860771, 0.6149347 , 0.63126169, 0.64758868,\n",
       "        0.66391567]),\n",
       " <a list of 10 Patch objects>)"
      ]
     },
     "execution_count": 35,
     "metadata": {},
     "output_type": "execute_result"
    },
    {
     "data": {
      "image/png": "[encoded data removed]",
      "text/plain": [
       "<Figure size 432x288 with 1 Axes>"
      ]
     },
     "metadata": {
      "needs_background": "light"
     },
     "output_type": "display_data"
    }
   ],
   "source": [
    "pl.hist(1.-trace['prain'])"
   ]
  },
  {
   "cell_type": "code",
   "execution_count": null,
   "metadata": {},
   "outputs": [],
   "source": []
  }
 ],
 "metadata": {
  "kernelspec": {
   "display_name": "Survival",
   "language": "python",
   "name": "survival"
  },
  "language_info": {
   "codemirror_mode": {
    "name": "ipython",
    "version": 3
   },
   "file_extension": ".py",
   "mimetype": "text/x-python",
   "name": "python",
   "nbconvert_exporter": "python",
   "pygments_lexer": "ipython3",
   "version": "3.6.7"
  }
 },
 "nbformat": 4,
 "nbformat_minor": 2
}
