{
 "cells": [
  {
   "cell_type": "code",
   "execution_count": 1,
   "metadata": {},
   "outputs": [
    {
     "name": "stderr",
     "output_type": "stream",
     "text": [
      "WARNING (theano.configdefaults): install mkl with `conda install mkl-service`: No module named 'mkl'\n"
     ]
    }
   ],
   "source": [
    "%matplotlib inline\n",
    "\n",
    "from matplotlib import pyplot as pl\n",
    "import daft\n",
    "import pymc3 as pm\n",
    "import numpy as np\n",
    "\n",
    "from scipy.stats import bernoulli, binom"
   ]
  },
  {
   "cell_type": "code",
   "execution_count": 2,
   "metadata": {},
   "outputs": [
    {
     "data": {
      "text/plain": [
       "<matplotlib.axes._axes.Axes at 0x7f6e39ec7978>"
      ]
     },
     "execution_count": 2,
     "metadata": {},
     "output_type": "execute_result"
    },
    {
     "data": {
      "image/png": "[encoded data removed]",
      "text/plain": [
       "<Figure size 340.157x226.772 with 1 Axes>"
      ]
     },
     "metadata": {},
     "output_type": "display_data"
    }
   ],
   "source": [
    "pgm = daft.PGM([6, 4], origin=[2, 1])\n",
    "pgm.add_node(daft.Node('r', 'rain', 3, 4, aspect=2))\n",
    "pgm.add_node(daft.Node('s', 'sprinkler', 7, 4, aspect=3))\n",
    "pgm.add_node(daft.Node('w', 'grass wet', 5, 2, aspect=4, observed=True))\n",
    "pgm.add_edge('r', 's')\n",
    "pgm.add_edge('r', 'w')\n",
    "pgm.add_edge('s', 'w')\n",
    "pgm.render()"
   ]
  },
  {
   "cell_type": "markdown",
   "metadata": {},
   "source": [
    "Using some observations about whether it has rained, whether the sprinkler has been on, and whether the grass is wet, fit the conditional probability table values for the Bayesian network [above](https://en.wikipedia.org/wiki/Bayesian_network#Example)."
   ]
  },
  {
   "cell_type": "code",
   "execution_count": 6,
   "metadata": {},
   "outputs": [
    {
     "name": "stderr",
     "output_type": "stream",
     "text": [
      "Auto-assigning NUTS sampler...\n",
      "Initializing NUTS using jitter+adapt_diag...\n",
      "Sequential sampling (1 chains in 1 job)\n",
      "NUTS: [wetnosprinknorain, wetnosprinkrain, wetsprinknorain, wetsprinkrain, sprinknorain, sprinkrain, prain]\n",
      "100%|██████████| 3000/3000 [09:27<00:00,  5.15it/s]\n",
      "The chain reached the maximum tree depth. Increase max_treedepth, increase target_accept or reparameterize.\n",
      "Only one chain was sampled, this makes it impossible to run some convergence checks\n"
     ]
    }
   ],
   "source": [
    "# set the observations\n",
    "has_rained =   np.array([1, 0, 0, 1, 1, 0, 0, 0, 0, 1, 0, 1, 1, 1, 0, 0, 0, 0, 1])\n",
    "sprinkler_on = np.array([0, 0, 1, 0, 1, 0, 0, 1, 1, 0, 1, 0, 0, 1, 0, 0, 1, 0, 0])\n",
    "grass_wet =    np.array([1, 0, 1, 1, 1, 0, 0, 1, 1, 1, 1, 0, 0, 1, 0, 0, 1, 0, 1])\n",
    "\n",
    "# fit the conditional probability distributions\n",
    "with pm.Model() as model:\n",
    "    prain = pm.Uniform('prain', 0.0, 1.0)  # prior on probability of rain\n",
    "\n",
    "    # distribution of prain given the number of observed times it has rained\n",
    "    rain = pm.Bernoulli('rain', p=prain, observed=has_rained)\n",
    "\n",
    "    # conditional probability for s\n",
    "    sprinkrain = pm.Uniform('sprinkrain', 0., 1.)\n",
    "    sprinknorain = pm.Uniform('sprinknorain', 0., 1.)\n",
    "    \n",
    "    psprinkrain = pm.Bernoulli('psprinkrain', sprinkrain,\n",
    "                               observed=(has_rained & sprinkler_on))\n",
    "    psprinknorain = pm.Bernoulli('psprinknorain', sprinknorain,\n",
    "                                 observed=(sprinkler_on & ~has_rained))\n",
    "\n",
    "    wetsprinkrain = pm.Uniform('wetsprinkrain', 0., 1.)\n",
    "    wetsprinknorain = pm.Uniform('wetsprinknorain', 0., 1.)\n",
    "    wetnosprinkrain = pm.Uniform('wetnosprinkrain', 0., 1.)\n",
    "    wetnosprinknorain = pm.Uniform('wetnosprinknorain', 0., 1.)\n",
    "    \n",
    "    pwetsprinkrain = pm.Bernoulli('pwetsprinkrain', wetsprinkrain,\n",
    "                                  observed=(grass_wet & sprinkler_on & has_rained))\n",
    "    pwetsprinknorain = pm.Bernoulli('pwetsprinknorain', wetsprinknorain,\n",
    "                                    observed=(grass_wet & sprinkler_on & ~has_rained))\n",
    "    pwetnosprinkrain = pm.Bernoulli('pwetnosprinkrain', wetnosprinkrain,\n",
    "                                    observed=(grass_wet & has_rained & ~sprinkler_on))\n",
    "    pwetnosprinknorain = pm.Bernoulli('pwetnosprinknorain', wetnosprinknorain,\n",
    "                                      observed=(grass_wet & ~has_rained & ~sprinkler_on))\n",
    "    \n",
    "    trace = pm.sample(1000, tune=2000, discard_tuned_samples=True, chains=1)"
   ]
  },
  {
   "cell_type": "markdown",
   "metadata": {},
   "source": [
    "Following the example [here](https://gist.github.com/cs224/9a19b4ba2c7511e317be90c32a4d40d7#file-pymc3_rain_sprinkler_grass_simple_bayesian_network_with_evidence-py) add in prediction variables."
   ]
  },
  {
   "cell_type": "markdown",
   "metadata": {},
   "source": [
    "Build up the model to check if it's correct. First, just check that I can correctly estimate the probability that it's rained from a set of \"observations\"."
   ]
  },
  {
   "cell_type": "code",
   "execution_count": 3,
   "metadata": {},
   "outputs": [
    {
     "name": "stderr",
     "output_type": "stream",
     "text": [
      "Auto-assigning NUTS sampler...\n",
      "Initializing NUTS using jitter+adapt_diag...\n",
      "Multiprocess sampling (2 chains in 2 jobs)\n",
      "NUTS: [prain]\n",
      "Sampling 2 chains: 100%|██████████| 16000/16000 [00:08<00:00, 1950.35draws/s]\n"
     ]
    }
   ],
   "source": [
    "# set \"true\" probability of rain\n",
    "true_rain = 0.41\n",
    "\n",
    "# set number of previous \"observations\"\n",
    "nobs = 1000\n",
    "\n",
    "# set the observations\n",
    "has_rained = bernoulli.rvs(true_rain, size=nobs)\n",
    "\n",
    "# is wanting to add missing samples, one could do, e.g.,\n",
    "#has_rained[20] = -1  # add missing samples as -1\n",
    "#has_rained = np.ma.masked_values(has_rained, value=-1)  # create masked array\n",
    "# NOTE: with PyMC3 v3.6 this gives a Theano error if you try it with just one missing value,\n",
    "# but I have a fix here https://github.com/pymc-devs/pymc3/issues/3122!\n",
    "\n",
    "# fit the conditional probability distributions\n",
    "with pm.Model() as model:\n",
    "    prain = pm.Uniform('prain', 0.0, 1.0)  # prior on probability of rain\n",
    "\n",
    "    # distribution of prain given the number of observed times it has rained\n",
    "    rain = pm.Bernoulli('rain', p=prain, observed=has_rained)\n",
    "\n",
    "    # the following would be equivalent in this case with all observations being present,\n",
    "    # but would not be as good if there were missing observations as the missing observations\n",
    "    # would have to be dropped rather than being imputed (which can be done for the Bernoulli\n",
    "    # approach)\n",
    "    # rain = pm.Binomial('rain', n=nobs, p=prain, observed=np.sum(has_rained))\n",
    "\n",
    "    trace = pm.sample(2000, tune=6000, discard_tuned_samples=True, chains=2)"
   ]
  },
  {
   "cell_type": "code",
   "execution_count": 4,
   "metadata": {},
   "outputs": [
    {
     "data": {
      "image/png": "[encoded data removed]",
      "text/plain": [
       "<Figure size 432x288 with 1 Axes>"
      ]
     },
     "metadata": {
      "needs_background": "light"
     },
     "output_type": "display_data"
    }
   ],
   "source": [
    "pl.hist(trace['prain']);"
   ]
  },
  {
   "cell_type": "code",
   "execution_count": 5,
   "metadata": {},
   "outputs": [
    {
     "name": "stdout",
     "output_type": "stream",
     "text": [
      "0.424\n",
      "0.423874775252449\n",
      "0.016242417387506286\n"
     ]
    }
   ],
   "source": [
    "print(np.mean(has_rained))\n",
    "print(np.mean(trace['prain']))\n",
    "print(np.std(trace['prain']))"
   ]
  },
  {
   "cell_type": "code",
   "execution_count": 6,
   "metadata": {},
   "outputs": [
    {
     "data": {
      "text/plain": [
       "(array([   2.,   18.,  171.,  537., 1012., 1191.,  750.,  266.,   44.,\n",
       "           9.]),\n",
       " array([0.51064779, 0.52324977, 0.53585176, 0.54845375, 0.56105573,\n",
       "        0.57365772, 0.58625971, 0.59886169, 0.61146368, 0.62406567,\n",
       "        0.63666765]),\n",
       " <a list of 10 Patch objects>)"
      ]
     },
     "execution_count": 6,
     "metadata": {},
     "output_type": "execute_result"
    },
    {
     "data": {
      "image/png": "[encoded data removed]",
      "text/plain": [
       "<Figure size 432x288 with 1 Axes>"
      ]
     },
     "metadata": {
      "needs_background": "light"
     },
     "output_type": "display_data"
    }
   ],
   "source": [
    "pl.hist(1.-trace['prain'])"
   ]
  },
  {
   "cell_type": "markdown",
   "metadata": {},
   "source": [
    "Now, check that I can estimate the probabilities that it rains, the sprinkler is on when it's raining, and the spinkler is on when it's not raining."
   ]
  },
  {
   "cell_type": "code",
   "execution_count": 3,
   "metadata": {},
   "outputs": [
    {
     "name": "stderr",
     "output_type": "stream",
     "text": [
      "Multiprocess sampling (2 chains in 2 jobs)\n",
      "CompoundStep\n",
      ">NUTS: [psprinknoraintruth, psprinkraintruth, praintruth]\n",
      ">BinaryGibbsMetropolis: [newobsrain]\n",
      "Sampling 2 chains: 100%|██████████| 16000/16000 [00:16<00:00, 951.60draws/s] \n"
     ]
    }
   ],
   "source": [
    "# set \"true\" probability of rain\n",
    "true_rain = 0.41\n",
    "\n",
    "# set number of previous \"observations\"\n",
    "nobs = 1000\n",
    "\n",
    "# set the observations\n",
    "has_rained = bernoulli.rvs(true_rain, size=nobs)\n",
    "\n",
    "# set \"true\" probability of sprinkler *and* raining\n",
    "true_sprinkler_rain = 0.01\n",
    "\n",
    "# set \"true\" probability of spinkler *and* not raining\n",
    "true_sprinkler_norain = 0.25\n",
    "\n",
    "# set the observations\n",
    "sprinkler_rain = np.zeros(nobs)\n",
    "sprinkler_norain = np.zeros(nobs)\n",
    "\n",
    "# draw number from binomial distribution (binomial distribution is the sum of Bernoulli draws)\n",
    "numsprinkrain = binom.rvs(p=true_sprinkler_rain, n=nobs)\n",
    "numsprinknorain = binom.rvs(p=true_sprinkler_norain, n=nobs)\n",
    "\n",
    "# set the observations\n",
    "rained_idx = np.argwhere(has_rained == 1)\n",
    "sprinkler_rain[np.random.permutation(rained_idx)[0:numsprinkrain]] = 1\n",
    "sprinkler_norain[np.random.permutation(rained_idx)[0:numsprinknorain]] = 1\n",
    "\n",
    "# set new observation that the sprinkler is on (from which to get the probability of also raining?)\n",
    "obs_sprink_on = np.array([1])\n",
    "\n",
    "# fit the conditional probability distributions\n",
    "with pm.Model() as model:\n",
    "    praintruth = pm.Uniform('praintruth', 0.0, 1.0)  # prior on probability of rain\n",
    "\n",
    "    # distribution of prain given the number of observed times it has rained\n",
    "    raintruth = pm.Bernoulli('raintruth', p=praintruth, observed=has_rained)\n",
    "    \n",
    "    # conditional probability for sprinkler\n",
    "    psprinkraintruth = pm.Uniform('psprinkraintruth', 0., 1.)\n",
    "    psprinknoraintruth = pm.Uniform('psprinknoraintruth', 0., 1.)\n",
    "\n",
    "    sprinkraintruth = pm.Bernoulli('sprinkraintruth', psprinkraintruth,\n",
    "                                   observed=sprinkler_rain)\n",
    "    sprinknoraintruth = pm.Bernoulli('sprinknorain', psprinknoraintruth,\n",
    "                                     observed=sprinkler_norain)\n",
    "\n",
    "    # set variables based on \"new observation\"\n",
    "    newobsrain = pm.Bernoulli('newobsrain', praintruth)  # samples that will provide the probability of rain given the new observation\n",
    "    pnewobssprinkler = pm.Deterministic('pnewobssprinkler',\n",
    "                                        pm.math.switch(newobsrain,\n",
    "                                                       psprinkraintruth,\n",
    "                                                       psprinknoraintruth))\n",
    "    newobssprinkler = pm.Bernoulli('newobssprinkler', pnewobssprinkler,\n",
    "                                   observed=obs_sprink_on)  # new observation that the sprinkler is on\n",
    "\n",
    "    trace = pm.sample(2000, tune=6000, discard_tuned_samples=True, chains=2)"
   ]
  },
  {
   "cell_type": "code",
   "execution_count": 4,
   "metadata": {},
   "outputs": [
    {
     "data": {
      "text/plain": [
       "<matplotlib.lines.Line2D at 0x7f6e274aac18>"
      ]
     },
     "execution_count": 4,
     "metadata": {},
     "output_type": "execute_result"
    },
    {
     "data": {
      "image/png": "[encoded data removed]",
      "text/plain": [
       "<Figure size 432x288 with 1 Axes>"
      ]
     },
     "metadata": {
      "needs_background": "light"
     },
     "output_type": "display_data"
    }
   ],
   "source": [
    "pl.hist(trace['praintruth'], bins=20, density=True, color='b', alpha=0.2);\n",
    "pl.axvline(true_rain, color='b')\n",
    "pl.hist(trace['psprinkraintruth'], bins=20, density=True, color='r', alpha=0.2);\n",
    "pl.axvline(true_sprinkler_rain, color='r')\n",
    "pl.hist(trace['psprinknoraintruth'], bins=20, density=True, color='g', alpha=0.2);\n",
    "pl.axvline(true_sprinkler_norain, color='g')"
   ]
  },
  {
   "cell_type": "markdown",
   "metadata": {},
   "source": [
    "The values in `trace['newobsrain']` are Bernoulli draws (zeros or ones) using the probability distribution that it rains (based on \"previous\" observations). Therefore, given the new observation that the sprinkler is on, the ratio of the numbers of ones to the total number of draws give the probability (which you can get using `np.mean`) that it also rained."
   ]
  },
  {
   "cell_type": "code",
   "execution_count": 5,
   "metadata": {},
   "outputs": [
    {
     "name": "stdout",
     "output_type": "stream",
     "text": [
      "Probability that it rained, given a new observation that the sprinker was on: 0.039\n",
      "Probability that it did not rain, given a new observation that the sprinker was on: 0.961\n"
     ]
    }
   ],
   "source": [
    "print('Probability that it rained, given a new observation that '\n",
    "      'the sprinker was on: {}'.format(np.mean(trace['newobsrain'])))\n",
    "print('Probability that it did not rain, given a new observation that '\n",
    "      'the sprinker was on: {}'.format(1.-np.mean(trace['newobsrain'])))"
   ]
  },
  {
   "cell_type": "code",
   "execution_count": 21,
   "metadata": {},
   "outputs": [
    {
     "name": "stderr",
     "output_type": "stream",
     "text": [
      "Multiprocess sampling (2 chains in 2 jobs)\n",
      "CompoundStep\n",
      ">NUTS: [psprinknoraintruth, psprinkraintruth, praintruth]\n",
      ">BinaryGibbsMetropolis: [newobsrain]\n",
      "Sampling 2 chains: 100%|██████████| 16000/16000 [07:50<00:00, 33.99draws/s]\n"
     ]
    }
   ],
   "source": [
    "# set \"true\" probability of rain\n",
    "true_rain = 0.41\n",
    "\n",
    "# set number of previous \"observations\"\n",
    "nobs = 1000\n",
    "\n",
    "# set the observations\n",
    "has_rained = bernoulli.rvs(true_rain, size=nobs)\n",
    "\n",
    "# set \"true\" probability of sprinkler *and* raining\n",
    "true_sprinkler_rain = 0.01\n",
    "\n",
    "# set \"true\" probability of spinkler *and* not raining\n",
    "true_sprinkler_norain = 0.25\n",
    "\n",
    "# set the observations\n",
    "sprinkler_rain = np.zeros(nobs)\n",
    "sprinkler_norain = np.zeros(nobs)\n",
    "\n",
    "# draw number from binomial distribution (binomial distribution is the sum of Bernoulli draws)\n",
    "numsprinkrain = binom.rvs(p=true_sprinkler_rain, n=nobs)\n",
    "numsprinknorain = binom.rvs(p=true_sprinkler_norain, n=nobs)\n",
    "\n",
    "# set the observations\n",
    "rained_idx = np.argwhere(has_rained == 1)\n",
    "sprinkler_rain[np.random.permutation(rained_idx)[0:numsprinkrain]] = 1\n",
    "sprinkler_norain[np.random.permutation(rained_idx)[0:numsprinknorain]] = 1\n",
    "\n",
    "# set new observation that the sprinkler is on (from which to get the probability of also raining?)\n",
    "# Here I set 500 instances of the new observation (it's just still just one observatoin though)\n",
    "# so that we get 500 set of draws from the Bernoulli distribution (so we can get a distribution\n",
    "# of the probability that it's raining it the sprinkler's on)\n",
    "obs_sprink_on = np.ones(500)\n",
    "\n",
    "model = pm.Model()\n",
    "\n",
    "# fit the conditional probability distributions\n",
    "with model:\n",
    "    praintruth = pm.Uniform('praintruth', 0.0, 1.0)  # prior on probability of rain\n",
    "\n",
    "    # distribution of prain given the number of observed times it has rained\n",
    "    raintruth = pm.Bernoulli('raintruth', p=praintruth, observed=has_rained)\n",
    "    \n",
    "    # conditional probability for sprinkler\n",
    "    psprinkraintruth = pm.Uniform('psprinkraintruth', 0., 1.)\n",
    "    psprinknoraintruth = pm.Uniform('psprinknoraintruth', 0., 1.)\n",
    "\n",
    "    sprinkraintruth = pm.Bernoulli('sprinkraintruth', psprinkraintruth,\n",
    "                               observed=sprinkler_rain)\n",
    "    sprinknoraintruth = pm.Bernoulli('sprinknorain', psprinknoraintruth,\n",
    "                                 observed=sprinkler_norain)\n",
    "\n",
    "    # set variables based on \"new observation\"\n",
    "    newobsrain = pm.Bernoulli('newobsrain', praintruth, shape=len(obs_sprink_on))  # samples that will provide the probability of rain given the new observation\n",
    "    pnewobssprinkler = pm.Deterministic('pnewobssprinkler', pm.math.switch(newobsrain, psprinkraintruth, psprinknoraintruth))\n",
    "    newobssprinkler = pm.Bernoulli('newobssprinkler', pnewobssprinkler, observed=obs_sprink_on)  # new observation that the sprinkler is on\n",
    "\n",
    "    trace = pm.sample(2000, tune=6000, discard_tuned_samples=True, chains=2)"
   ]
  },
  {
   "cell_type": "code",
   "execution_count": 22,
   "metadata": {},
   "outputs": [
    {
     "data": {
      "text/plain": [
       "(4000, 500)"
      ]
     },
     "execution_count": 22,
     "metadata": {},
     "output_type": "execute_result"
    }
   ],
   "source": [
    "trace['newobsrain'].shape"
   ]
  },
  {
   "cell_type": "code",
   "execution_count": 26,
   "metadata": {},
   "outputs": [
    {
     "name": "stdout",
     "output_type": "stream",
     "text": [
      "Probability of rain, given sprinkler on, is 0.0092575+/-0.0017674328134330878\n"
     ]
    }
   ],
   "source": [
    "pnewrain = np.zeros(trace['newobsrain'].shape[1])\n",
    "for i in range(trace['newobsrain'].shape[1]):\n",
    "    pnewrain[i] = np.mean(trace['newobsrain'][:,i])\n",
    "    \n",
    "print('Probability of rain, given sprinkler on, is {}+/-{}'.format(np.mean(pnewrain), np.std(pnewrain)))"
   ]
  },
  {
   "cell_type": "code",
   "execution_count": 24,
   "metadata": {},
   "outputs": [
    {
     "data": {
      "text/plain": [
       "(array([  4.,  15.,  34.,  74., 146.,  72.,  83.,  40.,  25.,   7.]),\n",
       " array([0.00425, 0.00525, 0.00625, 0.00725, 0.00825, 0.00925, 0.01025,\n",
       "        0.01125, 0.01225, 0.01325, 0.01425]),\n",
       " <a list of 10 Patch objects>)"
      ]
     },
     "execution_count": 24,
     "metadata": {},
     "output_type": "execute_result"
    },
    {
     "data": {
      "image/png": "[encoded data removed]",
      "text/plain": [
       "<Figure size 432x288 with 1 Axes>"
      ]
     },
     "metadata": {
      "needs_background": "light"
     },
     "output_type": "display_data"
    }
   ],
   "source": [
    "pl.hist(pnewrain)"
   ]
  },
  {
   "cell_type": "code",
   "execution_count": 18,
   "metadata": {},
   "outputs": [
    {
     "name": "stderr",
     "output_type": "stream",
     "text": [
      "Multiprocess sampling (2 chains in 2 jobs)\n",
      "CompoundStep\n",
      ">NUTS: [psprinknoraintruth, psprinkraintruth, praintruth]\n",
      ">BinaryGibbsMetropolis: [newobsrain]\n",
      "Sampling 2 chains: 100%|██████████| 16000/16000 [00:17<00:00, 935.47draws/s] \n"
     ]
    }
   ],
   "source": [
    "from theano import shared, config\n",
    "import theano.tensor as T\n",
    "\n",
    "# set \"true\" probability of rain\n",
    "true_rain = 0.41\n",
    "\n",
    "# set number of previous \"observations\"\n",
    "nobs = 1000\n",
    "\n",
    "# set the observations\n",
    "has_rained = bernoulli.rvs(true_rain, size=nobs)\n",
    "\n",
    "# set \"true\" probability of sprinkler *and* raining\n",
    "true_sprinkler_rain = 0.01\n",
    "\n",
    "# set \"true\" probability of spinkler *and* not raining\n",
    "true_sprinkler_norain = 0.25\n",
    "\n",
    "# set the observations\n",
    "sprinkler_rain = np.zeros(nobs)\n",
    "sprinkler_norain = np.zeros(nobs)\n",
    "\n",
    "# draw number from binomial distribution (binomial distribution is the sum of Bernoulli draws)\n",
    "numsprinkrain = binom.rvs(p=true_sprinkler_rain, n=nobs)\n",
    "numsprinknorain = binom.rvs(p=true_sprinkler_norain, n=nobs)\n",
    "\n",
    "# set the observations\n",
    "rained_idx = np.argwhere(has_rained == 1)\n",
    "sprinkler_rain[np.random.permutation(rained_idx)[0:numsprinkrain]] = 1\n",
    "sprinkler_norain[np.random.permutation(rained_idx)[0:numsprinknorain]] = 1\n",
    "\n",
    "# set new observation that the sprinkler is on (from which to get the probability of also raining?)\n",
    "obs_sprink_on = shared(np.ones(1))\n",
    "\n",
    "model = pm.Model()\n",
    "\n",
    "# fit the conditional probability distributions\n",
    "with model:\n",
    "    praintruth = pm.Uniform('praintruth', 0.0, 1.0)  # prior on probability of rain\n",
    "\n",
    "    # distribution of prain given the number of observed times it has rained\n",
    "    raintruth = pm.Bernoulli('raintruth', p=praintruth, observed=has_rained)\n",
    "    \n",
    "    # conditional probability for sprinkler\n",
    "    psprinkraintruth = pm.Uniform('psprinkraintruth', 0., 1.)\n",
    "    psprinknoraintruth = pm.Uniform('psprinknoraintruth', 0., 1.)\n",
    "\n",
    "    sprinkraintruth = pm.Bernoulli('sprinkraintruth', psprinkraintruth,\n",
    "                               observed=sprinkler_rain)\n",
    "    sprinknoraintruth = pm.Bernoulli('sprinknorain', psprinknoraintruth,\n",
    "                                 observed=sprinkler_norain)\n",
    "\n",
    "    # set variables based on \"new observation\"\n",
    "    newobsrain = pm.Bernoulli('newobsrain', praintruth)  # samples that will provide the probability of rain given the new observation\n",
    "    pnewobssprinkler = pm.Deterministic('pnewobssprinkler', pm.math.switch(newobsrain, psprinkraintruth, psprinknoraintruth))\n",
    "    newobssprinkler = pm.Bernoulli('newobssprinkler', pnewobssprinkler, observed=obs_sprink_on)  # new observation that the sprinkler is on\n",
    "\n",
    "    trace = pm.sample(2000, tune=6000, discard_tuned_samples=True, chains=2)"
   ]
  },
  {
   "cell_type": "code",
   "execution_count": 19,
   "metadata": {},
   "outputs": [
    {
     "name": "stderr",
     "output_type": "stream",
     "text": [
      "100%|██████████| 100/100 [00:01<00:00, 73.81it/s]\n"
     ]
    }
   ],
   "source": [
    "obs_sprink_on.set_value(np.ones(500))\n",
    "#with model:\n",
    "#    newobsrain.ones_like(np.ones(500))\n",
    "ppc = pm.sample_posterior_predictive(trace, model=model, samples=100)"
   ]
  },
  {
   "cell_type": "markdown",
   "metadata": {},
   "source": [
    "In the cell below, I'll try and do the full \"wet grass\" network:"
   ]
  },
  {
   "cell_type": "code",
   "execution_count": 28,
   "metadata": {},
   "outputs": [
    {
     "name": "stderr",
     "output_type": "stream",
     "text": [
      "Multiprocess sampling (2 chains in 2 jobs)\n",
      "CompoundStep\n",
      ">NUTS: [pwetgrassnosprinknorain, pwetgrassnosprinkrain, pwetgrasssprinknorain, pwetgrasssprinkrain, psprinknoraintruth, psprinkraintruth, praintruth]\n",
      ">BinaryGibbsMetropolis: [newobsrain]\n",
      "Sampling 2 chains: 100%|██████████| 8000/8000 [19:43<00:00,  5.76draws/s]\n",
      "The chain reached the maximum tree depth. Increase max_treedepth, increase target_accept or reparameterize.\n",
      "The acceptance probability does not match the target. It is 0.6861197512573054, but should be close to 0.8. Try to increase the number of tuning steps.\n",
      "The chain reached the maximum tree depth. Increase max_treedepth, increase target_accept or reparameterize.\n",
      "The gelman-rubin statistic is larger than 1.05 for some parameters. This indicates slight problems during sampling.\n",
      "The estimated number of effective samples is smaller than 200 for some parameters.\n"
     ]
    }
   ],
   "source": [
    "# set \"true\" probability of rain (values from wikipedia article)\n",
    "true_rain = 0.2\n",
    "\n",
    "# set number of previous \"observations\"\n",
    "nobs = 500\n",
    "\n",
    "# set the observations\n",
    "has_rained = bernoulli.rvs(true_rain, size=nobs)\n",
    "\n",
    "# set \"true\" probability of sprinkler *and* raining\n",
    "true_sprinkler_rain = 0.01\n",
    "\n",
    "# set \"true\" probability of spinkler *and* not raining\n",
    "true_sprinkler_norain = 0.4\n",
    "\n",
    "# set \"true\" probability that the grass is wet *and* the sprinkler is on *and* it is raining\n",
    "true_wetgrass_sprinkler_rain = 0.99\n",
    "\n",
    "# set \"true\" probability that the grass is wet *and* the sprinkler is on *and* not raining\n",
    "true_wetgrass_sprinkler_norain = 0.9\n",
    "\n",
    "# set \"true\" probability that the grass is wet *and* no sprinkler *and* is raining\n",
    "true_wetgrass_nosprinkler_rain = 0.8\n",
    "\n",
    "# set \"true\" probability that the grass is wet *and* no sprinkler *and* no rain\n",
    "true_wetgrass_nosprinkler_norain = 0.0\n",
    "\n",
    "# set the observations\n",
    "wetgrass_sprinkler_rain = np.zeros(nobs)\n",
    "wetgrass_sprinkler_norain = np.zeros(nobs)\n",
    "wetgrass_nosprinkler_rain = np.zeros(nobs)\n",
    "wetgrass_nosprinkler_norain = np.zeros(nobs)\n",
    "\n",
    "# set the observations\n",
    "sprinkler_rain = np.zeros(nobs)\n",
    "sprinkler_norain = np.zeros(nobs)\n",
    "\n",
    "# draw number from binomial distribution (binomial distribution is the sum of Bernoulli draws)\n",
    "numsprinkrain = binom.rvs(p=true_sprinkler_rain, n=nobs)\n",
    "numsprinknorain = binom.rvs(p=true_sprinkler_norain, n=nobs)\n",
    "numwetgrasssprinkrain = binom.rvs(p=true_wetgrass_sprinkler_rain, n=nobs)\n",
    "numwetgrasssprinknorain = binom.rvs(p=true_wetgrass_sprinkler_norain, n=nobs)\n",
    "numwetgrassnosprinkrain = binom.rvs(p=true_wetgrass_nosprinkler_rain, n=nobs)\n",
    "numwetgrassnosprinknorain = binom.rvs(p=true_wetgrass_nosprinkler_norain, n=nobs)\n",
    "\n",
    "# set the observations\n",
    "rained_idx = np.argwhere(has_rained == 1)\n",
    "sprinkler_rain[np.random.permutation(rained_idx)[0:numsprinkrain]] = 1\n",
    "sprinkler_norain[np.random.permutation(rained_idx)[0:numsprinknorain]] = 1\n",
    "\n",
    "has_sprinkler = (sprinkler_rain == 1) & (sprinkler_norain == 1)  # sprinker on\n",
    "sprinkler_rain_idx = np.argwhere(sprinkler_rain == 1)\n",
    "sprinkler_norain_idx = np.argwhere(sprinkler_norain == 1)\n",
    "nosprinkler_rain_idx = np.argwhere((has_rained == 1) & (~has_sprinkler))\n",
    "nosprinkler_norain_idx = np.argwhere((~has_rained) & (~has_sprinkler))\n",
    "\n",
    "wetgrass_sprinkler_rain[np.random.permutation(sprinkler_rain_idx)[0:numwetgrasssprinkrain]] = 1\n",
    "wetgrass_sprinkler_norain[np.random.permutation(sprinkler_norain_idx)[0:numwetgrasssprinknorain]] = 1\n",
    "wetgrass_nosprinkler_rain[np.random.permutation(nosprinkler_rain_idx)[0:numwetgrassnosprinkrain]] = 1\n",
    "wetgrass_nosprinkler_norain[np.random.permutation(nosprinkler_norain_idx)[0:numwetgrassnosprinknorain]] = 1\n",
    "\n",
    "# set new observation that the sprinkler is on (from which to get the probability of also raining?)\n",
    "obs_sprink_on = np.ones(1)  # new observation has sprinkler on\n",
    "obs_grass_wet = np.ones(1)  # new observation has grass is wet\n",
    "\n",
    "model = pm.Model()\n",
    "\n",
    "# fit the conditional probability distributions\n",
    "with model:\n",
    "    praintruth = pm.Uniform('praintruth', 0.0, 1.0)  # prior on probability of rain\n",
    "\n",
    "    # distribution of prain given the number of observed times it has rained\n",
    "    raintruth = pm.Bernoulli('raintruth', p=praintruth, observed=has_rained)\n",
    "    \n",
    "    # conditional probability for sprinkler\n",
    "    psprinkraintruth = pm.Uniform('psprinkraintruth', 0., 1.)\n",
    "    psprinknoraintruth = pm.Uniform('psprinknoraintruth', 0., 1.)\n",
    "\n",
    "    sprinkraintruth = pm.Bernoulli('sprinkraintruth', psprinkraintruth,\n",
    "                                   observed=sprinkler_rain)\n",
    "    sprinknoraintruth = pm.Bernoulli('sprinknorain', psprinknoraintruth,\n",
    "                                     observed=sprinkler_norain)\n",
    "\n",
    "    # conditional probability for wet grass\n",
    "    pwetgrasssprinkrain = pm.Uniform('pwetgrasssprinkrain', 0., 1.)\n",
    "    pwetgrasssprinknorain = pm.Uniform('pwetgrasssprinknorain', 0., 1.)\n",
    "    pwetgrassnosprinkrain = pm.Uniform('pwetgrassnosprinkrain', 0., 1.)\n",
    "    pwetgrassnosprinknorain = pm.Uniform('pwetgrassnosprinknorain', 0., 1.)\n",
    "    \n",
    "    wetgrasssprinkraintruth = pm.Bernoulli('wetgrasssprinkraintruth',\n",
    "                                           pwetgrasssprinkrain,\n",
    "                                           observed=wetgrass_sprinkler_rain)\n",
    "    wetgrasssprinknoraintruth = pm.Bernoulli('wetgrasssprinknoraintruth',\n",
    "                                             pwetgrasssprinknorain,\n",
    "                                             observed=wetgrass_sprinkler_norain)\n",
    "    wetgrasssnoprinkraintruth = pm.Bernoulli('wetgrassnosprinkraintruth',\n",
    "                                             pwetgrassnosprinkrain,\n",
    "                                             observed=wetgrass_nosprinkler_rain)\n",
    "    wetgrassnosprinknoraintruth = pm.Bernoulli('wetgrassnosprinknoraintruth',\n",
    "                                               pwetgrassnosprinknorain,\n",
    "                                               observed=wetgrass_nosprinkler_norain)\n",
    "\n",
    "    # set variables based on \"new observation\"\n",
    "    newobsrain = pm.Bernoulli('newobsrain', praintruth)  # samples that will provide the probability of rain given the new observations\n",
    "    pnewobssprinkler = pm.Deterministic('pnewobssprinkler',\n",
    "                                        pm.math.switch(newobsrain, psprinkraintruth, psprinknoraintruth))\n",
    "    newobssprinkler = pm.Bernoulli('newobssprinkler', pnewobssprinkler, observed=obs_sprink_on)  # new observation that the sprinkler is on\n",
    "\n",
    "    pnewobsgrasswet = pm.Deterministic('pnewobsgrasswet',\n",
    "                                       pm.math.switch(newobsrain,\n",
    "                                                      pm.math.switch(newobssprinkler, pwetgrasssprinkrain, pwetgrassnosprinkrain),\n",
    "                                                      pm.math.switch(newobssprinkler, pwetgrasssprinknorain, pwetgrassnosprinknorain)))\n",
    "    newobsgrasswet = pm.Bernoulli('newobsgrasswet', pnewobsgrasswet,\n",
    "                                  observed=obs_grass_wet)\n",
    "\n",
    "    trace = pm.sample(2000, tune=2000, discard_tuned_samples=True, chains=2, cores=2)"
   ]
  },
  {
   "cell_type": "code",
   "execution_count": 31,
   "metadata": {},
   "outputs": [
    {
     "data": {
      "text/plain": [
       "0.00025"
      ]
     },
     "execution_count": 31,
     "metadata": {},
     "output_type": "execute_result"
    }
   ],
   "source": [
    "np.mean(trace['newobsrain'])"
   ]
  },
  {
   "cell_type": "code",
   "execution_count": 36,
   "metadata": {},
   "outputs": [
    {
     "data": {
      "text/plain": [
       "[<matplotlib.lines.Line2D at 0x7f6e1caf10f0>]"
      ]
     },
     "execution_count": 36,
     "metadata": {},
     "output_type": "execute_result"
    },
    {
     "data": {
      "image/png": "[encoded data removed]",
      "text/plain": [
       "<Figure size 432x288 with 1 Axes>"
      ]
     },
     "metadata": {
      "needs_background": "light"
     },
     "output_type": "display_data"
    }
   ],
   "source": [
    "pl.plot(trace['pwetgrasssprinkrain'], trace['psprinkraintruth'], '.')"
   ]
  },
  {
   "cell_type": "code",
   "execution_count": 33,
   "metadata": {},
   "outputs": [
    {
     "data": {
      "text/plain": [
       "(array([ 762., 1101.,  876.,  692.,  342.,  121.,   47.,   27.,   20.,\n",
       "          12.]),\n",
       " array([0.00301256, 0.00652323, 0.0100339 , 0.01354456, 0.01705523,\n",
       "        0.0205659 , 0.02407656, 0.02758723, 0.0310979 , 0.03460856,\n",
       "        0.03811923]),\n",
       " <a list of 10 Patch objects>)"
      ]
     },
     "execution_count": 33,
     "metadata": {},
     "output_type": "execute_result"
    },
    {
     "data": {
      "image/png": "[encoded data removed]",
      "text/plain": [
       "<Figure size 432x288 with 1 Axes>"
      ]
     },
     "metadata": {
      "needs_background": "light"
     },
     "output_type": "display_data"
    }
   ],
   "source": [
    "pl.hist(trace['pwetgrasssprinkrain'])"
   ]
  },
  {
   "cell_type": "code",
   "execution_count": null,
   "metadata": {},
   "outputs": [],
   "source": []
  }
 ],
 "metadata": {
  "kernelspec": {
   "display_name": "Survival",
   "language": "python",
   "name": "survival"
  },
  "language_info": {
   "codemirror_mode": {
    "name": "ipython",
    "version": 3
   },
   "file_extension": ".py",
   "mimetype": "text/x-python",
   "name": "python",
   "nbconvert_exporter": "python",
   "pygments_lexer": "ipython3",
   "version": "3.6.7"
  }
 },
 "nbformat": 4,
 "nbformat_minor": 2
}
